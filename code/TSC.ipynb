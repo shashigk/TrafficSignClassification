{
 "cells": [
  {
   "cell_type": "markdown",
   "metadata": {
    "deletable": true,
    "editable": true
   },
   "source": [
    "# Self-Driving Car Engineer Nanodegree\n",
    "\n",
    "## Deep Learning\n",
    "\n",
    "## Project: Build a Traffic Sign Recognition Classifier\n",
    "\n",
    "In this notebook, a template is provided for you to implement your functionality in stages, which is required to successfully complete this project. If additional code is required that cannot be included in the notebook, be sure that the Python code is successfully imported and included in your submission if necessary. \n",
    "\n",
    "> **Note**: Once you have completed all of the code implementations, you need to finalize your work by exporting the iPython Notebook as an HTML document. Before exporting the notebook to html, all of the code cells need to have been run so that reviewers can see the final implementation and output. You can then export the notebook by using the menu above and navigating to  \\n\",\n",
    "    \"**File -> Download as -> HTML (.html)**. Include the finished document along with this notebook as your submission. \n",
    "\n",
    "In addition to implementing code, there is a writeup to complete. The writeup should be completed in a separate file, which can be either a markdown file or a pdf document. There is a [write up template](https://github.com/udacity/CarND-Traffic-Sign-Classifier-Project/blob/master/writeup_template.md) that can be used to guide the writing process. Completing the code template and writeup template will cover all of the [rubric points](https://review.udacity.com/#!/rubrics/481/view) for this project.\n",
    "\n",
    "The [rubric](https://review.udacity.com/#!/rubrics/481/view) contains \"Stand Out Suggestions\" for enhancing the project beyond the minimum requirements. The stand out suggestions are optional. If you decide to pursue the \"stand out suggestions\", you can include the code in this Ipython notebook and also discuss the results in the writeup file.\n",
    "\n",
    "\n",
    ">**Note:** Code and Markdown cells can be executed using the **Shift + Enter** keyboard shortcut. In addition, Markdown cells can be edited by typically double-clicking the cell to enter edit mode."
   ]
  },
  {
   "cell_type": "markdown",
   "metadata": {
    "deletable": true,
    "editable": true
   },
   "source": [
    "---\n",
    "## Step 0: Load The Data"
   ]
  },
  {
   "cell_type": "code",
   "execution_count": 1,
   "metadata": {
    "collapsed": false,
    "deletable": true,
    "editable": true
   },
   "outputs": [
    {
     "name": "stdout",
     "output_type": "stream",
     "text": [
      "#X_train = 34799, #y_train = 34799, #X_valid = 4410, #y_valid = 4410, #X_test = 12630, #y_test = 12630\n"
     ]
    }
   ],
   "source": [
    "# Load pickled data\n",
    "import pickle\n",
    "from skimage import color\n",
    "from skimage import data, img_as_float\n",
    "from skimage import exposure\n",
    "\n",
    "import numpy as np\n",
    "import matplotlib.pyplot as plt\n",
    "import cv2\n",
    "# Visualizations will be shown in the notebook.\n",
    "%matplotlib inline\n",
    "    \n",
    "# TODO: Fill this in based on where you saved the training and testing data\n",
    "\n",
    "training_file =\"../data/train.p\"\n",
    "validation_file=\"../data/valid.p\"\n",
    "testing_file = \"../data/test.p\"\n",
    "\n",
    "with open(training_file, mode='rb') as f:\n",
    "    train = pickle.load(f)\n",
    "with open(validation_file, mode='rb') as f:\n",
    "    valid = pickle.load(f)\n",
    "with open(testing_file, mode='rb') as f:\n",
    "    test = pickle.load(f)\n",
    "    \n",
    "X_train, y_train = train['features'], train['labels']\n",
    "X_validation, y_validation = valid['features'], valid['labels']\n",
    "X_test, y_test = test['features'], test['labels']\n",
    "#normalizeImgDataSetExp (X_validation)\n",
    "\n",
    "print (\"#X_train = {}, #y_train = {}, #X_valid = {}, #y_valid = {}, #X_test = {}, #y_test = {}\".format (len(X_train), len(y_train), len(X_validation), len(y_validation), len (X_test), len (y_test)))"
   ]
  },
  {
   "cell_type": "markdown",
   "metadata": {
    "deletable": true,
    "editable": true
   },
   "source": [
    "---\n",
    "\n",
    "## Step 1: Dataset Summary & Exploration\n",
    "\n",
    "The pickled data is a dictionary with 4 key/value pairs:\n",
    "\n",
    "- `'features'` is a 4D array containing raw pixel data of the traffic sign images, (num examples, width, height, channels).\n",
    "- `'labels'` is a 1D array containing the label/class id of the traffic sign. The file `signnames.csv` contains id -> name mappings for each id.\n",
    "- `'sizes'` is a list containing tuples, (width, height) representing the original width and height the image.\n",
    "- `'coords'` is a list containing tuples, (x1, y1, x2, y2) representing coordinates of a bounding box around the sign in the image. **THESE COORDINATES ASSUME THE ORIGINAL IMAGE. THE PICKLED DATA CONTAINS RESIZED VERSIONS (32 by 32) OF THESE IMAGES**\n",
    "\n",
    "Complete the basic data summary below. Use python, numpy and/or pandas methods to calculate the data summary rather than hard coding the results. For example, the [pandas shape method](http://pandas.pydata.org/pandas-docs/stable/generated/pandas.DataFrame.shape.html) might be useful for calculating some of the summary results. "
   ]
  },
  {
   "cell_type": "markdown",
   "metadata": {
    "deletable": true,
    "editable": true
   },
   "source": [
    "### Provide a Basic Summary of the Data Set Using Python, Numpy and/or Pandas"
   ]
  },
  {
   "cell_type": "code",
   "execution_count": 2,
   "metadata": {
    "collapsed": false,
    "deletable": true,
    "editable": true
   },
   "outputs": [
    {
     "name": "stdout",
     "output_type": "stream",
     "text": [
      "Number of training examples = 34799\n",
      "Number of testing examples = 12630\n",
      "Image data shape = (32, 32, 3)\n",
      "Number of classes = 43\n"
     ]
    }
   ],
   "source": [
    "### Replace each question mark with the appropriate value. \n",
    "### Use python, pandas or numpy methods rather than hard coding the results\n",
    "import numpy as np\n",
    "\n",
    "# Number of training examples\n",
    "n_train = len(X_train)\n",
    "\n",
    "# Number of testing examples.\n",
    "n_test = len(X_test)\n",
    "\n",
    "# What's the shape of an traffic sign image?\n",
    "image_shape = X_train[0].shape\n",
    "\n",
    "# TODO: How many unique classes/labels there are in the dataset.\n",
    "n_classes = 43\n",
    "\n",
    "print(\"Number of training examples =\", n_train)\n",
    "print(\"Number of testing examples =\", n_test)\n",
    "print(\"Image data shape =\", image_shape)\n",
    "print(\"Number of classes =\", n_classes)"
   ]
  },
  {
   "cell_type": "markdown",
   "metadata": {
    "deletable": true,
    "editable": true
   },
   "source": [
    "### Include an exploratory visualization of the dataset"
   ]
  },
  {
   "cell_type": "markdown",
   "metadata": {
    "deletable": true,
    "editable": true
   },
   "source": [
    "Visualize the German Traffic Signs Dataset using the pickled file(s). This is open ended, suggestions include: plotting traffic sign images, plotting the count of each sign, etc.\n",
    "\n",
    "The [Matplotlib](http://matplotlib.org/) [examples](http://matplotlib.org/examples/index.html) and [gallery](http://matplotlib.org/gallery.html) pages are a great resource for doing visualizations in Python.\n",
    "\n",
    "**NOTE:** It's recommended you start with something simple first. If you wish to do more, come back to it after you've completed the rest of the sections."
   ]
  },
  {
   "cell_type": "code",
   "execution_count": 3,
   "metadata": {
    "collapsed": false,
    "deletable": true,
    "editable": true
   },
   "outputs": [
    {
     "name": "stdout",
     "output_type": "stream",
     "text": [
      "image_shape = (32, 32, 3)\n",
      "18\n"
     ]
    },
    {
     "data": {
      "image/png": "[encoded data removed]",
      "text/plain": [
       "<matplotlib.figure.Figure at 0x7f296c430cf8>"
      ]
     },
     "metadata": {},
     "output_type": "display_data"
    }
   ],
   "source": [
    "### Data exploration visualization code goes here.\n",
    "### Feel free to use as many code cells as needed.\n",
    "\n",
    "import random\n",
    "\n",
    "index = random.randint(0, len(X_train))\n",
    "image = X_train[index].squeeze()\n",
    "print (\"image_shape = {}\".format (np.shape (image)))\n",
    "\n",
    "plt.figure(figsize=(1,1))\n",
    "plt.imshow(image)\n",
    "print(y_train[index])"
   ]
  },
  {
   "cell_type": "code",
   "execution_count": 4,
   "metadata": {
    "collapsed": false,
    "deletable": true,
    "editable": true
   },
   "outputs": [
    {
     "data": {
      "image/png": "[encoded data removed]",
      "text/plain": [
       "<matplotlib.figure.Figure at 0x7f2920dcfe10>"
      ]
     },
     "metadata": {},
     "output_type": "display_data"
    },
    {
     "data": {
      "image/png": "[encoded data removed]",
      "text/plain": [
       "<matplotlib.figure.Figure at 0x7f2920de54a8>"
      ]
     },
     "metadata": {},
     "output_type": "display_data"
    },
    {
     "data": {
      "image/png": "[encoded data removed]",
      "text/plain": [
       "<matplotlib.figure.Figure at 0x7f2920d1bb00>"
      ]
     },
     "metadata": {},
     "output_type": "display_data"
    }
   ],
   "source": [
    "#Plot number of samples per class\n",
    "def plot_data_label_histo (Y, plot_title) :    \n",
    "    class_counts = np.zeros(n_classes)\n",
    "    for i in range(n_classes):\n",
    "        class_counts[i] = np.sum(Y == i)\n",
    "    fig, ax = plt.subplots(1, 1)\n",
    "    ax.set_title (plot_title)\n",
    "    count_plot = plt.bar(range(n_classes),class_counts)    \n",
    "\n",
    "plot_data_label_histo (y_train, \"Training Histogram\")\n",
    "plot_data_label_histo (y_validation, \"Validation Histogram\")\n",
    "plot_data_label_histo (y_test, \"Test Histogram\")"
   ]
  },
  {
   "cell_type": "markdown",
   "metadata": {
    "deletable": true,
    "editable": true
   },
   "source": [
    "----\n",
    "\n",
    "## Step 2: Design and Test a Model Architecture\n",
    "\n",
    "Design and implement a deep learning model that learns to recognize traffic signs. Train and test your model on the [German Traffic Sign Dataset](http://benchmark.ini.rub.de/?section=gtsrb&subsection=dataset).\n",
    "\n",
    "The LeNet-5 implementation shown in the [classroom](https://classroom.udacity.com/nanodegrees/nd013/parts/fbf77062-5703-404e-b60c-95b78b2f3f9e/modules/6df7ae49-c61c-4bb2-a23e-6527e69209ec/lessons/601ae704-1035-4287-8b11-e2c2716217ad/concepts/d4aca031-508f-4e0b-b493-e7b706120f81) at the end of the CNN lesson is a solid starting point. You'll have to change the number of classes and possibly the preprocessing, but aside from that it's plug and play! \n",
    "\n",
    "With the LeNet-5 solution from the lecture, you should expect a validation set accuracy of about 0.89. To meet specifications, the validation set accuracy will need to be at least 0.93. It is possible to get an even higher accuracy, but 0.93 is the minimum for a successful project submission. \n",
    "\n",
    "There are various aspects to consider when thinking about this problem:\n",
    "\n",
    "- Neural network architecture (is the network over or underfitting?)\n",
    "- Play around preprocessing techniques (normalization, rgb to grayscale, etc)\n",
    "- Number of examples per label (some have more than others).\n",
    "- Generate fake data.\n",
    "\n",
    "Here is an example of a [published baseline model on this problem](http://yann.lecun.com/exdb/publis/pdf/sermanet-ijcnn-11.pdf). It's not required to be familiar with the approach used in the paper but, it's good practice to try to read papers like these."
   ]
  },
  {
   "cell_type": "markdown",
   "metadata": {
    "deletable": true,
    "editable": true
   },
   "source": [
    "### Pre-process the Data Set (normalization, grayscale, etc.)"
   ]
  },
  {
   "cell_type": "markdown",
   "metadata": {
    "deletable": true,
    "editable": true
   },
   "source": [
    "Use the code cell (or multiple code cells, if necessary) to implement the first step of your project."
   ]
  },
  {
   "cell_type": "code",
   "execution_count": 5,
   "metadata": {
    "collapsed": false,
    "deletable": true,
    "editable": true
   },
   "outputs": [],
   "source": [
    "### Preprocess the data here. Preprocessing steps could include normalization, converting to grayscale, etc.\n",
    "### Feel free to use as many code cells as needed.\n",
    "from sklearn.utils import shuffle\n",
    "\n",
    "X_train, y_train = shuffle(X_train, y_train)"
   ]
  },
  {
   "cell_type": "code",
   "execution_count": 6,
   "metadata": {
    "collapsed": false,
    "deletable": true,
    "editable": true
   },
   "outputs": [
    {
     "name": "stdout",
     "output_type": "stream",
     "text": [
      "Shape Before data add: X_train = (34799, 32, 32, 3), y_train = (34799,)\n",
      "Shape After data add: X_train = (86010, 32, 32, 3), y_train = (86010,)\n",
      "Histogram after data addition\n"
     ]
    },
    {
     "data": {
      "image/png": "[encoded data removed]",
      "text/plain": [
       "<matplotlib.figure.Figure at 0x7f2920374d68>"
      ]
     },
     "metadata": {},
     "output_type": "display_data"
    },
    {
     "data": {
      "image/png": "[encoded data removed]",
      "text/plain": [
       "<matplotlib.figure.Figure at 0x7f29202eb7b8>"
      ]
     },
     "metadata": {},
     "output_type": "display_data"
    },
    {
     "data": {
      "image/png": "[encoded data removed]",
      "text/plain": [
       "<matplotlib.figure.Figure at 0x7f29202c0198>"
      ]
     },
     "metadata": {},
     "output_type": "display_data"
    },
    {
     "data": {
      "image/png": "[encoded data removed]",
      "text/plain": [
       "<matplotlib.figure.Figure at 0x7f2920a54550>"
      ]
     },
     "metadata": {},
     "output_type": "display_data"
    },
    {
     "data": {
      "image/png": "[encoded data removed]",
      "text/plain": [
       "<matplotlib.figure.Figure at 0x7f2920b1c0f0>"
      ]
     },
     "metadata": {},
     "output_type": "display_data"
    },
    {
     "data": {
      "image/png": "[encoded data removed]",
      "text/plain": [
       "<matplotlib.figure.Figure at 0x7f2920ab6908>"
      ]
     },
     "metadata": {},
     "output_type": "display_data"
    },
    {
     "data": {
      "image/png": "[encoded data removed]",
      "text/plain": [
       "<matplotlib.figure.Figure at 0x7f2920374e48>"
      ]
     },
     "metadata": {},
     "output_type": "display_data"
    }
   ],
   "source": [
    "### Data Augmentation -- Method \n",
    "### NOTE !!!\n",
    "### The two functions below, namely, augment_brightness and image_xform\n",
    "### are based on the ideas in the following post:\n",
    "#### https://medium.com/@vivek.yadav/dealing-with-unbalanced-data-generating-additional-data-by-jittering-the-original-image-7497fe2119c3#.q69bj4ix7\n",
    "def augment_brightness (image, mean_brightness):\n",
    "    image1 = cv2.cvtColor(image,cv2.COLOR_RGB2HSV)\n",
    "    random_bright = mean_brightness+np.random.uniform()\n",
    "    image1[:,:,2] = image1[:,:,2]*random_bright\n",
    "    image1 = cv2.cvtColor(image1,cv2.COLOR_HSV2RGB)\n",
    "    return image1\n",
    "\n",
    "def get_uniform_random_val (val_range) :\n",
    "    return np.random.uniform (val_range) -val_range/2\n",
    "def translation_xform (img, trans_range) :\n",
    "    tr_x = get_uniform_random_val (trans_range)\n",
    "    tr_y = get_uniform_random_val (trans_range)\n",
    "    Trans_M = np.float32([[1,0,tr_x],[0,1,tr_y]])\n",
    "    rows,cols,ch = img.shape\n",
    "    return cv2.warpAffine(img,Trans_M,(cols,rows))\n",
    "\n",
    "def rotation_xform (img, angle_range) :\n",
    "    angle_range = get_uniform_random_val (angle_range)\n",
    "    rows,cols,ch = img.shape\n",
    "    Rot_M = cv2.getRotationMatrix2D((cols/2,rows/2),angle_range,1)\n",
    "    return cv2.warpAffine (img, Rot_M, (cols, rows))\n",
    "\n",
    "def shear_xform (img, shear_range) :\n",
    "    pts1 = np.float32([[5,5],[20,5],[5,20]])\n",
    "    pt1 = 5+get_uniform_random_val (shear_range)\n",
    "    pt2 = 20+get_uniform_random_val (shear_range)  \n",
    "    pts2 = np.float32([[pt1,5],[pt2,pt1],[5,pt2]])\n",
    "    shear_M = cv2.getAffineTransform(pts1,pts2)\n",
    "    rows,cols,ch = img.shape\n",
    "    return cv2.warpAffine (img, shear_M, (cols, rows))\n",
    "\n",
    "# Transform an image by a random amount\n",
    "# based on the angle, shear, translation ranges\n",
    "def image_xform (img,angle_range,shear_range,trans_range,mean_brightness=0.0):\n",
    "    # Rotation\n",
    "    img = rotation_xform (img, angle_range)\n",
    "    # Translation\n",
    "    img = translation_xform (img, trans_range)\n",
    "    # Shear\n",
    "    img = shear_xform (img, shear_range)    \n",
    "    # Brightness\n",
    "    if mean_brightness > 0.0:\n",
    "        img = augment_brightness (img, mean_brightness)\n",
    "    return img\n",
    "\n",
    "## Function to create a minimum number of samples per class\n",
    "def add_transformed_data_min_perclass (X, y, min_samples_per_class):\n",
    "    #Save Images for displaying, testing, and reporting\n",
    "    orig_imgs = []\n",
    "    trans_imgs = []\n",
    "    sav_labels = []\n",
    "    save_count = 3\n",
    "    for i in range(43): #range(43):\n",
    "        indexes = y == i\n",
    "        count = np.sum(indexes)\n",
    "        class_i_imgs = X[indexes]\n",
    "        class_i_labels = y[indexes]\n",
    "        if count < min_samples_per_class :\n",
    "            num_transforms_per_img = np.ceil (min_samples_per_class/count).astype(int)\n",
    "            X_new = [] \n",
    "            y_new = [] \n",
    "            saved_label = False\n",
    "            while len(X_new) + count < min_samples_per_class :\n",
    "                for (img, label) in zip (class_i_imgs, class_i_labels):\n",
    "                    orig_img = img\n",
    "                    xform_img = image_xform (img, 20,10,5,0.25)\n",
    "                    if (save_count > 0 and False == saved_label) :\n",
    "                        saved_label = True\n",
    "                        orig_imgs.append (orig_img)\n",
    "                        sav_labels.append (i)\n",
    "                        trans_imgs.append (xform_img)\n",
    "                        save_count = save_count - 1\n",
    "                    X_new.append(xform_img)\n",
    "                    y_new.append(i)\n",
    "                    if (len(X_new) + count >= min_samples_per_class) :\n",
    "                        break\n",
    "            X = np.concatenate ((X, X_new))\n",
    "            y = np.concatenate ((y, y_new))\n",
    "    for j in range (len(trans_imgs)):\n",
    "        plt.figure(figsize=(1,1))\n",
    "        plt.imshow(orig_imgs[j])\n",
    "        plt.figure(figsize=(1,1))\n",
    "        plt.imshow(trans_imgs[j])\n",
    "    return X, y\n",
    "def add_transformed_data (X, y, min_samples_per_class):\n",
    "    return add_transformed_data_min_perclass (X, y, min_samples_per_class)\n",
    "\n",
    "MIN_SAMPLES_PER_CLASS=2000\n",
    "print (\"Shape Before data add: X_train = {}, y_train = {}\".format (np.shape(X_train), np.shape(y_train)))\n",
    "X_train, y_train = add_transformed_data (X_train, y_train, MIN_SAMPLES_PER_CLASS)\n",
    "X_train, y_train = shuffle(X_train, y_train)\n",
    "print (\"Shape After data add: X_train = {}, y_train = {}\".format (np.shape(X_train), np.shape(y_train)))\n",
    "print (\"Histogram after data addition\")\n",
    "plot_data_label_histo (y_train, \"Post Augmentation Training Labels\")\n"
   ]
  },
  {
   "cell_type": "code",
   "execution_count": 7,
   "metadata": {
    "collapsed": false,
    "deletable": true,
    "editable": true
   },
   "outputs": [
    {
     "name": "stdout",
     "output_type": "stream",
     "text": [
      "Sample Training data size = 86010\n"
     ]
    }
   ],
   "source": [
    "# Choose a subset of data for experimentation\n",
    "sample_size = 15000\n",
    "rand_indxs = np.random.choice(len(X_train), sample_size, replace=False)\n",
    "X_train_sample = X_train [rand_indxs]\n",
    "y_train_sample = y_train [rand_indxs]\n",
    "\n",
    "#Uncomment the following while experimenting to choose smaller data.\n",
    "X_train #= X_train_sample\n",
    "y_train #= y_train_sample\n",
    "print (\"Sample Training data size = {}\".format (len(X_train)))"
   ]
  },
  {
   "cell_type": "code",
   "execution_count": 8,
   "metadata": {
    "collapsed": false,
    "deletable": true,
    "editable": true
   },
   "outputs": [
    {
     "name": "stdout",
     "output_type": "stream",
     "text": [
      "Before Normalization:\n",
      "\n",
      "BN_Train, max = 255, min = 0\n",
      "BN_Valid, max = 255, min = 0\n",
      "BN_Test, max = 255, min = 0\n",
      "Shape after norm = (32, 32, 1)\n",
      "After Normalization:\n",
      "\n",
      "AN_Train, max = 0.9921875, min = -1.0\n",
      "AN_Valid, max = 0.9921875, min = -0.9646328125\n",
      "AN_Test, max = 0.9921875, min = -0.971640625\n"
     ]
    },
    {
     "data": {
      "image/png": "[encoded data removed]",
      "text/plain": [
       "<matplotlib.figure.Figure at 0x7f2920d6cf98>"
      ]
     },
     "metadata": {},
     "output_type": "display_data"
    },
    {
     "data": {
      "image/png": "[encoded data removed]",
      "text/plain": [
       "<matplotlib.figure.Figure at 0x7f2920d94358>"
      ]
     },
     "metadata": {},
     "output_type": "display_data"
    }
   ],
   "source": [
    "# Normalize the data\n",
    "\n",
    "def normalizeImgDataSetRescaleOnly (X):\n",
    "    U = X.astype(float)\n",
    "    U = (U - 128.0) /128.0\n",
    "    return U\n",
    "def normalizeImgDataSet2GrayAndRescale (X):\n",
    "    V = np.dot(X, [0.299, 0.587, 0.114])\n",
    "    V = np.expand_dims(V, axis = 3)\n",
    "    U = V.astype (float)\n",
    "    U = (U - 128.0) / 128.0\n",
    "    return U\n",
    "\n",
    "def normalizeImgDataSet2GrayEqHist (X):\n",
    "    V = np.dot(X, [0.299, 0.587, 0.114])\n",
    "    V = exposure.equalize_hist (V)\n",
    "    V = np.expand_dims(V, axis = 3)\n",
    "    U = V.astype (float)\n",
    "    U = (U - 128.0) / 128.0\n",
    "    return U\n",
    "\n",
    "#Rescale Intensity and convert  to gray scale\n",
    "def normalizeImgDataSet_RI_2GS (X):\n",
    "    U = X.astype(float)\n",
    "    min_I = 2\n",
    "    max_I = 98\n",
    "    for i in range(0, len(X)):\n",
    "        pmin = np.percentile(X[i], min_I)\n",
    "        pmax = np.percentile(X[i], max_I)\n",
    "        U[i] = exposure.rescale_intensity (U[i], in_range=(pmin, pmax))\n",
    "    U = np.dot (U, [0.299, 0.587, 0.114])\n",
    "    U = np.expand_dims(U, axis = 3)\n",
    "    U = (U - 128.0) /128.0\n",
    "    return U\n",
    "\n",
    "    \n",
    "def normalizeImgDataSetRescaleIntensity (X):\n",
    "    #U = X.astype(float, copy=True)\n",
    "    U = X.astype(float)\n",
    "    min_I = 2\n",
    "    max_I = 98\n",
    "    for i in range(0, len(X)):\n",
    "        pmin = np.percentile(X[i], min_I)\n",
    "        pmax = np.percentile(X[i], max_I)\n",
    "        U[i] = exposure.rescale_intensity (X[i], in_range=(pmin, pmax))\n",
    "        U[i] = (U[i] - 128.0) /128.0\n",
    "    return U\n",
    "def normalizeImgDataSetEQHist(X):\n",
    "    U = X.astype(float)\n",
    "    for i in range(0, len(X)):\n",
    "        for color in range(0, 2):\n",
    "            U[i,:,:,color] = cv2.equalizeHist(X[i,:,:,color])\n",
    "    return normalizeImgDataSetRescaleOnly (U)\n",
    "\n",
    "def normalizeImgDataSetAEQHist(X):\n",
    "    U = X.astype(float)\n",
    "    for i in range(0, len(X)):\n",
    "        U[i] = exposure.equalize_adapthist(X[i], clip_limit=0.03)\n",
    "    return U\n",
    "\n",
    "def normalizeImgDataSetExp (X):    \n",
    "    #for i in range (0, len(X)):\n",
    "    p2 = np.percentile(X[0], 2)\n",
    "    p98 = np.percentile(X[0], 98)\n",
    "    index = 0\n",
    "    image = X[index]\n",
    "    print (\"image_shape = {}\".format (np.shape (image)))\n",
    "\n",
    "    plt.figure(figsize=(1,1))\n",
    "    plt.imshow(image)\n",
    "    image_rescaled = exposure.rescale_intensity(image, in_range=(p2, p98))\n",
    "    plt.figure(figsize=(1,1))\n",
    "    plt.imshow(image_rescaled)\n",
    "    print (\"ri_min = {}, ri_max = {}\".format(np.min(image_rescaled), np.max(image_rescaled)))\n",
    "    image_eq = exposure.equalize_hist(image)\n",
    "    plt.figure(figsize=(1,1))\n",
    "    plt.imshow(image_eq)\n",
    "    print (\"e_min = {}, e_max = {}\".format(np.min(image_eq), np.max(image_eq)))\n",
    "    image_aeq = exposure.equalize_adapthist(image, clip_limit=0.03)\n",
    "    plt.figure(figsize=(1,1))\n",
    "    plt.imshow(image_aeq)\n",
    "    print (\"ae_min = {}, ae_max = {}\".format(np.min(image_aeq), np.max(image_aeq)))\n",
    "\n",
    "def convert2YUV (X):    \n",
    "    for i in range (0, len(X)):\n",
    "        X[i] = cv2.cvtColor(X[i], cv2.COLOR_BGR2YUV)\n",
    "    U = X.astype(float)\n",
    "    U = (U - 128.0) /128.0\n",
    "    return U\n",
    "\n",
    "def normalizeAdjustGamma (X) :\n",
    "    print (\"Max = {}, min = {}\".format (np.max(X), np.min(X)))\n",
    "    U = exposure.adjust_gamma (X)\n",
    "    print (\"Max = {}, min = {}\".format (np.max(U), np.min(U)))\n",
    "    return U\n",
    "    \n",
    "    #normalizeImgDataSetRescaleIntensity -- Gives about 90%\n",
    "def normalizeImgDataSet (X):\n",
    "    #return normalizeImgDataSetAEQHist(X)\n",
    "    #return normalizeImgDataSet2GrayEqHist (X)    \n",
    "    #return normalizeImgDataSetEQHist (X)\n",
    "    return normalizeImgDataSet2GrayAndRescale(X)\n",
    "    #return normalizeImgDataSetRescaleIntensity (X)\n",
    "    #return convert2YUV (X)\n",
    "\n",
    "def printMinMaxDataSet(X, prefix):\n",
    "    print (\"{}, max = {}, min = {}\".format (prefix, np.max(X), np.min(X)))\n",
    "\n",
    "# Do the normalization by calling the wrapper function\n",
    "print (\"Before Normalization:\\n\")\n",
    "printMinMaxDataSet (X_train, \"BN_Train\")\n",
    "printMinMaxDataSet (X_validation, \"BN_Valid\")\n",
    "printMinMaxDataSet (X_test, \"BN_Test\")\n",
    "befnorm_img_0 = X_train[0]\n",
    "X_train =  normalizeImgDataSet(X_train)\n",
    "aftnorm_img_0 = X_train[0]\n",
    "plt.figure(figsize=(1,1))\n",
    "plt.imshow (befnorm_img_0)\n",
    "print (\"Shape after norm = {}\".format(X_train[0].shape))\n",
    "plt.figure(figsize=(1,1))\n",
    "plt.imshow(aftnorm_img_0.squeeze(),cmap=\"gray\")\n",
    "X_validation = normalizeImgDataSet(X_validation)\n",
    "X_test = normalizeImgDataSet (X_test)\n",
    "print (\"After Normalization:\\n\")\n",
    "printMinMaxDataSet (X_train, \"AN_Train\")\n",
    "printMinMaxDataSet (X_validation, \"AN_Valid\")\n",
    "printMinMaxDataSet (X_test, \"AN_Test\")\n"
   ]
  },
  {
   "cell_type": "code",
   "execution_count": 9,
   "metadata": {
    "collapsed": false,
    "deletable": true,
    "editable": true
   },
   "outputs": [],
   "source": [
    "import tensorflow as tf\n",
    "#Number of colors, depends on whether conversion to GS was done\n",
    "IMG_DEPTH = X_train.shape[3]\n",
    "EPOCHS = 50\n",
    "BATCH_SIZE = 128"
   ]
  },
  {
   "cell_type": "code",
   "execution_count": 10,
   "metadata": {
    "collapsed": false,
    "deletable": true,
    "editable": true
   },
   "outputs": [
    {
     "name": "stdout",
     "output_type": "stream",
     "text": [
      "Removed lenet.index\n",
      "Removed lenet.data-00000-of-00001\n",
      "Removed lenet.meta\n"
     ]
    }
   ],
   "source": [
    "#Setup remove lenet and checkpoint files\n",
    "import os, glob\n",
    "def rm_models () :\n",
    "    try:\n",
    "        for f in glob.glob(\"lenet*\"):            \n",
    "            os.remove(f)\n",
    "            print (\"Removed {}\".format (f))\n",
    "        for f in glob.glob(\"checkpoint\"):\n",
    "            os.remove(f)\n",
    "    except:\n",
    "        print(\"Unable to delete file.\")\n",
    "rm_models ()"
   ]
  },
  {
   "cell_type": "markdown",
   "metadata": {
    "deletable": true,
    "editable": true
   },
   "source": [
    "### Model Architecture"
   ]
  },
  {
   "cell_type": "code",
   "execution_count": 11,
   "metadata": {
    "collapsed": true,
    "deletable": true,
    "editable": true
   },
   "outputs": [],
   "source": [
    "### Define your architecture here.\n",
    "### Feel free to use as many code cells as needed.\n",
    "\n",
    "## LeNet Archictecture described in the class, augmented with dropout\n",
    "from tensorflow.contrib.layers import flatten\n",
    "\n",
    "def LeNet(x, keep_prob):    \n",
    "    print (\"Keep_prob = {}\".format (keep_prob))\n",
    "    # Arguments used for tf.truncated_normal, randomly defines variables for the weights and biases for each layer\n",
    "    mu = 0\n",
    "    sigma = 0.1\n",
    "    \n",
    "    # SOLUTION: Layer 1: Convolutional. Input = 32x32x1. Output = 28x28x6.\n",
    "    conv1_W = tf.Variable(tf.truncated_normal(shape=(5, 5, IMG_DEPTH, 6), mean = mu, stddev = sigma))\n",
    "    conv1_b = tf.Variable(tf.zeros(6))\n",
    "    conv1   = tf.nn.conv2d(x, conv1_W, strides=[1, 1, 1, 1], padding='VALID') + conv1_b\n",
    "\n",
    "    # SOLUTION: Activation.\n",
    "    conv1 = tf.nn.relu(conv1)\n",
    "    ###### conv1 = tf.nn.dropout(conv1, keep_prob)\n",
    "    \n",
    "    # SOLUTION: Pooling. Input = 28x28x6. Output = 14x14x6.\n",
    "    conv1 = tf.nn.max_pool(conv1, ksize=[1, 2, 2, 1], strides=[1, 2, 2, 1], padding='VALID')\n",
    "\n",
    "    # SOLUTION: Layer 2: Convolutional. Output = 10x10x16.\n",
    "    conv2_W = tf.Variable(tf.truncated_normal(shape=(5, 5, 6, 16), mean = mu, stddev = sigma))\n",
    "    conv2_b = tf.Variable(tf.zeros(16))\n",
    "    conv2   = tf.nn.conv2d(conv1, conv2_W, strides=[1, 1, 1, 1], padding='VALID') + conv2_b\n",
    "    \n",
    "    # SOLUTION: Activation.\n",
    "    conv2 = tf.nn.relu(conv2)\n",
    "    ###### conv2 = tf.nn.dropout(conv2, keep_prob)\n",
    "\n",
    "    # SOLUTION: Pooling. Input = 10x10x16. Output = 5x5x16.\n",
    "    conv2 = tf.nn.max_pool(conv2, ksize=[1, 2, 2, 1], strides=[1, 2, 2, 1], padding='VALID')\n",
    "    \n",
    "    #conv3_W = tf.Variable (tf.truncated_normal(shape=(1,1,16,16), mean = mu, stddev = sigma))\n",
    "    #conv3_b = tf.Variable (tf.zeros(16))\n",
    "    #conv3 = tf.nn.conv2d (conv2, conv3_W, strides=[1,1,1,1], padding='VALID') + conv3_b\n",
    "    #conv3 = tf.nn.relu(conv3)\n",
    "    #conv3 = tf.nn.dropout(conv3, keep_prob)\n",
    "    # TODO:\n",
    "    #conv2 = conv3 #or CHANGE input to flatten below\n",
    "\n",
    "    # SOLUTION: Flatten. Input = 5x5x16. Output = 400.\n",
    "    fc0   = flatten(conv2)\n",
    "    \n",
    "    # SOLUTION: Layer 3: Fully Connected. Input = 400. Output = 120.\n",
    "    fc1_W = tf.Variable(tf.truncated_normal(shape=(400, 120), mean = mu, stddev = sigma))\n",
    "    fc1_b = tf.Variable(tf.zeros(120))\n",
    "    fc1   = tf.matmul(fc0, fc1_W) + fc1_b\n",
    "    \n",
    "    # SOLUTION: Activation.\n",
    "    fc1    = tf.nn.relu(fc1)\n",
    "    fc1 = tf.nn.dropout(fc1, keep_prob)\n",
    "\n",
    "    # SOLUTION: Layer 4: Fully Connected. Input = 120. Output = 84.\n",
    "    fc2_W  = tf.Variable(tf.truncated_normal(shape=(120, 84), mean = mu, stddev = sigma))\n",
    "    fc2_b  = tf.Variable(tf.zeros(84))\n",
    "    fc2    = tf.matmul(fc1, fc2_W) + fc2_b\n",
    "    \n",
    "    # SOLUTION: Activation.\n",
    "    fc2    = tf.nn.relu(fc2)\n",
    "    fc2 = tf.nn.dropout(fc2, keep_prob)\n",
    "\n",
    "    # SOLUTION: Layer 5: Fully Connected. Input = 84. Output = 43.\n",
    "    fc3_W  = tf.Variable(tf.truncated_normal(shape=(84, 43), mean = mu, stddev = sigma))\n",
    "    fc3_b  = tf.Variable(tf.zeros(43))\n",
    "    logits = tf.matmul(fc2, fc3_W) + fc3_b\n",
    "    \n",
    "    return logits"
   ]
  },
  {
   "cell_type": "code",
   "execution_count": 12,
   "metadata": {
    "collapsed": true,
    "deletable": true,
    "editable": true
   },
   "outputs": [],
   "source": [
    "x = tf.placeholder(tf.float32, (None, 32, 32, IMG_DEPTH))\n",
    "y = tf.placeholder(tf.int32, (None))\n",
    "one_hot_y = tf.one_hot(y, 43)"
   ]
  },
  {
   "cell_type": "code",
   "execution_count": 13,
   "metadata": {
    "collapsed": true,
    "deletable": true,
    "editable": true
   },
   "outputs": [],
   "source": [
    "keep_prob = tf.placeholder(tf.float32)"
   ]
  },
  {
   "cell_type": "markdown",
   "metadata": {
    "deletable": true,
    "editable": true
   },
   "source": [
    "### Train, Validate and Test the Model"
   ]
  },
  {
   "cell_type": "markdown",
   "metadata": {
    "deletable": true,
    "editable": true
   },
   "source": [
    "A validation set can be used to assess how well the model is performing. A low accuracy on the training and validation\n",
    "sets imply underfitting. A high accuracy on the training set but low accuracy on the validation set implies overfitting."
   ]
  },
  {
   "cell_type": "code",
   "execution_count": 14,
   "metadata": {
    "collapsed": false,
    "deletable": true,
    "editable": true
   },
   "outputs": [
    {
     "name": "stdout",
     "output_type": "stream",
     "text": [
      "Keep_prob = Tensor(\"Placeholder_2:0\", dtype=float32)\n"
     ]
    }
   ],
   "source": [
    "### Train your model here.\n",
    "### Calculate and report the accuracy on the training and validation set.\n",
    "### Once a final model architecture is selected, \n",
    "### the accuracy on the test set should be calculated and reported as well.\n",
    "### Feel free to use as many code cells as needed.\n",
    "rate = 0.0006\n",
    "\n",
    "logits = LeNet(x,keep_prob)\n",
    "cross_entropy = tf.nn.softmax_cross_entropy_with_logits(logits=logits, labels=one_hot_y)\n",
    "loss_operation = tf.reduce_mean(cross_entropy)\n",
    "optimizer = tf.train.AdamOptimizer(learning_rate = rate)\n",
    "#optimizer = tf.train.AdagradOptimizer(learning_rate = rate)\n",
    "training_operation = optimizer.minimize(loss_operation)"
   ]
  },
  {
   "cell_type": "code",
   "execution_count": 15,
   "metadata": {
    "collapsed": true,
    "deletable": true,
    "editable": true
   },
   "outputs": [],
   "source": [
    "correct_prediction = tf.equal(tf.argmax(logits, 1), tf.argmax(one_hot_y, 1))\n",
    "accuracy_operation = tf.reduce_mean(tf.cast(correct_prediction, tf.float32))\n",
    "saver = tf.train.Saver()\n",
    "\n",
    "def evaluate(X_data, y_data,kp=1.0):\n",
    "    num_examples = len(X_data)\n",
    "    total_accuracy = 0\n",
    "    total_loss = 0\n",
    "    sess = tf.get_default_session()\n",
    "    for offset in range(0, num_examples, BATCH_SIZE):\n",
    "        batch_x, batch_y = X_data[offset:offset+BATCH_SIZE], y_data[offset:offset+BATCH_SIZE]\n",
    "        loss, accuracy = sess.run([loss_operation, accuracy_operation], feed_dict={x: batch_x, y: batch_y, keep_prob : kp })\n",
    "        total_accuracy += (accuracy * len(batch_x))\n",
    "        total_loss += (loss * len(batch_x))\n",
    "    return total_loss/num_examples, total_accuracy / num_examples"
   ]
  },
  {
   "cell_type": "code",
   "execution_count": 16,
   "metadata": {
    "collapsed": false,
    "deletable": true,
    "editable": true
   },
   "outputs": [
    {
     "name": "stdout",
     "output_type": "stream",
     "text": [
      "Training...\n",
      "\n",
      "EPOCH 1 ...\n",
      "Train Loss = 1.968, Train Acc = 0.485, Validation Loss = 1.258, Validation Acc = 0.680\n",
      "\n",
      "EPOCH 2 ...\n",
      "Train Loss = 1.477, Train Acc = 0.601, Validation Loss = 0.819, Validation Acc = 0.776\n",
      "\n",
      "EPOCH 3 ...\n",
      "Train Loss = 1.201, Train Acc = 0.682, Validation Loss = 0.612, Validation Acc = 0.824\n",
      "\n",
      "EPOCH 4 ...\n",
      "Train Loss = 1.034, Train Acc = 0.725, Validation Loss = 0.499, Validation Acc = 0.861\n",
      "\n",
      "EPOCH 5 ...\n",
      "Train Loss = 0.910, Train Acc = 0.755, Validation Loss = 0.441, Validation Acc = 0.863\n",
      "\n",
      "EPOCH 6 ...\n",
      "Train Loss = 0.828, Train Acc = 0.777, Validation Loss = 0.408, Validation Acc = 0.870\n",
      "\n",
      "EPOCH 7 ...\n",
      "Train Loss = 0.741, Train Acc = 0.796, Validation Loss = 0.348, Validation Acc = 0.893\n",
      "\n",
      "EPOCH 8 ...\n",
      "Train Loss = 0.689, Train Acc = 0.813, Validation Loss = 0.350, Validation Acc = 0.890\n",
      "\n",
      "EPOCH 9 ...\n",
      "Train Loss = 0.644, Train Acc = 0.823, Validation Loss = 0.329, Validation Acc = 0.899\n",
      "\n",
      "EPOCH 10 ...\n",
      "Train Loss = 0.596, Train Acc = 0.836, Validation Loss = 0.293, Validation Acc = 0.910\n",
      "\n",
      "EPOCH 11 ...\n",
      "Train Loss = 0.550, Train Acc = 0.852, Validation Loss = 0.277, Validation Acc = 0.916\n",
      "\n",
      "EPOCH 12 ...\n",
      "Train Loss = 0.521, Train Acc = 0.859, Validation Loss = 0.279, Validation Acc = 0.916\n",
      "\n",
      "EPOCH 13 ...\n",
      "Train Loss = 0.502, Train Acc = 0.860, Validation Loss = 0.271, Validation Acc = 0.915\n",
      "\n",
      "EPOCH 14 ...\n",
      "Train Loss = 0.462, Train Acc = 0.870, Validation Loss = 0.257, Validation Acc = 0.919\n",
      "\n",
      "EPOCH 15 ...\n",
      "Train Loss = 0.441, Train Acc = 0.878, Validation Loss = 0.277, Validation Acc = 0.914\n",
      "\n",
      "EPOCH 16 ...\n",
      "Train Loss = 0.435, Train Acc = 0.882, Validation Loss = 0.265, Validation Acc = 0.916\n",
      "\n",
      "EPOCH 17 ...\n",
      "Train Loss = 0.414, Train Acc = 0.884, Validation Loss = 0.276, Validation Acc = 0.914\n",
      "\n",
      "EPOCH 18 ...\n",
      "Train Loss = 0.392, Train Acc = 0.891, Validation Loss = 0.251, Validation Acc = 0.921\n",
      "\n",
      "EPOCH 19 ...\n",
      "Train Loss = 0.384, Train Acc = 0.898, Validation Loss = 0.236, Validation Acc = 0.929\n",
      "\n",
      "EPOCH 20 ...\n",
      "Train Loss = 0.358, Train Acc = 0.901, Validation Loss = 0.230, Validation Acc = 0.933\n",
      "\n",
      "EPOCH 21 ...\n",
      "Train Loss = 0.342, Train Acc = 0.905, Validation Loss = 0.251, Validation Acc = 0.924\n",
      "\n",
      "EPOCH 22 ...\n",
      "Train Loss = 0.333, Train Acc = 0.908, Validation Loss = 0.233, Validation Acc = 0.928\n",
      "\n",
      "EPOCH 23 ...\n",
      "Train Loss = 0.316, Train Acc = 0.913, Validation Loss = 0.227, Validation Acc = 0.930\n",
      "\n",
      "EPOCH 24 ...\n",
      "Train Loss = 0.324, Train Acc = 0.909, Validation Loss = 0.241, Validation Acc = 0.926\n",
      "\n",
      "EPOCH 25 ...\n",
      "Train Loss = 0.300, Train Acc = 0.918, Validation Loss = 0.245, Validation Acc = 0.924\n",
      "\n",
      "EPOCH 26 ...\n",
      "Train Loss = 0.307, Train Acc = 0.918, Validation Loss = 0.244, Validation Acc = 0.927\n",
      "\n",
      "EPOCH 27 ...\n",
      "Train Loss = 0.294, Train Acc = 0.919, Validation Loss = 0.220, Validation Acc = 0.937\n",
      "\n",
      "EPOCH 28 ...\n",
      "Train Loss = 0.288, Train Acc = 0.921, Validation Loss = 0.240, Validation Acc = 0.930\n",
      "\n",
      "EPOCH 29 ...\n",
      "Train Loss = 0.298, Train Acc = 0.914, Validation Loss = 0.272, Validation Acc = 0.919\n",
      "\n",
      "EPOCH 30 ...\n",
      "Train Loss = 0.260, Train Acc = 0.930, Validation Loss = 0.229, Validation Acc = 0.932\n",
      "\n",
      "EPOCH 31 ...\n",
      "Train Loss = 0.264, Train Acc = 0.927, Validation Loss = 0.209, Validation Acc = 0.939\n",
      "\n",
      "EPOCH 32 ...\n",
      "Train Loss = 0.249, Train Acc = 0.933, Validation Loss = 0.239, Validation Acc = 0.935\n",
      "\n",
      "EPOCH 33 ...\n",
      "Train Loss = 0.244, Train Acc = 0.931, Validation Loss = 0.238, Validation Acc = 0.936\n",
      "\n",
      "EPOCH 34 ...\n",
      "Train Loss = 0.269, Train Acc = 0.925, Validation Loss = 0.233, Validation Acc = 0.931\n",
      "\n",
      "EPOCH 35 ...\n",
      "Train Loss = 0.238, Train Acc = 0.937, Validation Loss = 0.244, Validation Acc = 0.934\n",
      "\n",
      "EPOCH 36 ...\n",
      "Train Loss = 0.230, Train Acc = 0.938, Validation Loss = 0.235, Validation Acc = 0.935\n",
      "\n",
      "EPOCH 37 ...\n",
      "Train Loss = 0.228, Train Acc = 0.937, Validation Loss = 0.252, Validation Acc = 0.937\n",
      "\n",
      "EPOCH 38 ...\n",
      "Train Loss = 0.224, Train Acc = 0.939, Validation Loss = 0.215, Validation Acc = 0.939\n",
      "\n",
      "EPOCH 39 ...\n",
      "Train Loss = 0.210, Train Acc = 0.942, Validation Loss = 0.230, Validation Acc = 0.931\n",
      "\n",
      "EPOCH 40 ...\n",
      "Train Loss = 0.210, Train Acc = 0.941, Validation Loss = 0.235, Validation Acc = 0.938\n",
      "\n",
      "EPOCH 41 ...\n",
      "Train Loss = 0.199, Train Acc = 0.944, Validation Loss = 0.233, Validation Acc = 0.939\n",
      "\n",
      "EPOCH 42 ...\n",
      "Train Loss = 0.203, Train Acc = 0.946, Validation Loss = 0.226, Validation Acc = 0.940\n",
      "\n",
      "EPOCH 43 ...\n",
      "Train Loss = 0.199, Train Acc = 0.946, Validation Loss = 0.219, Validation Acc = 0.940\n",
      "\n",
      "EPOCH 44 ...\n",
      "Train Loss = 0.191, Train Acc = 0.948, Validation Loss = 0.220, Validation Acc = 0.940\n",
      "\n",
      "EPOCH 45 ...\n",
      "Train Loss = 0.193, Train Acc = 0.948, Validation Loss = 0.230, Validation Acc = 0.941\n",
      "\n",
      "EPOCH 46 ...\n",
      "Train Loss = 0.187, Train Acc = 0.948, Validation Loss = 0.222, Validation Acc = 0.943\n",
      "\n",
      "EPOCH 47 ...\n",
      "Train Loss = 0.182, Train Acc = 0.950, Validation Loss = 0.239, Validation Acc = 0.939\n",
      "\n",
      "EPOCH 48 ...\n",
      "Train Loss = 0.176, Train Acc = 0.951, Validation Loss = 0.235, Validation Acc = 0.937\n",
      "\n",
      "EPOCH 49 ...\n",
      "Train Loss = 0.177, Train Acc = 0.951, Validation Loss = 0.227, Validation Acc = 0.939\n",
      "\n",
      "EPOCH 50 ...\n",
      "Train Loss = 0.186, Train Acc = 0.949, Validation Loss = 0.230, Validation Acc = 0.942\n",
      "\n"
     ]
    },
    {
     "data": {
      "image/png": "[encoded data removed]",
      "text/plain": [
       "<matplotlib.figure.Figure at 0x7f28e2bd0710>"
      ]
     },
     "metadata": {},
     "output_type": "display_data"
    },
    {
     "name": "stdout",
     "output_type": "stream",
     "text": [
      "Model saved\n"
     ]
    }
   ],
   "source": [
    "#Train the model\n",
    "with tf.Session() as sess:\n",
    "    sess.run(tf.global_variables_initializer())\n",
    "    num_examples = len(X_train)\n",
    "    \n",
    "    print(\"Training...\")\n",
    "    print()\n",
    "    train_loss_epoch = []\n",
    "    valid_loss_epoch = []\n",
    "    train_acc_epoch = []\n",
    "    valid_acc_epoch = []\n",
    "    for i in range(EPOCHS):\n",
    "        X_train, y_train = shuffle(X_train, y_train)\n",
    "        for offset in range(0, num_examples, BATCH_SIZE):\n",
    "            end = offset + BATCH_SIZE\n",
    "            batch_x, batch_y = X_train[offset:end], y_train[offset:end]\n",
    "            sess.run(training_operation, feed_dict={x: batch_x, y: batch_y, keep_prob: 0.8})\n",
    "        \n",
    "        training_loss, training_accuracy = evaluate (X_train, y_train, 1.0)   \n",
    "        train_loss_epoch.append(training_loss)\n",
    "        train_acc_epoch.append (training_accuracy)\n",
    "        validation_loss, validation_accuracy = evaluate(X_validation, y_validation, 1.0)\n",
    "        valid_loss_epoch.append (validation_loss)\n",
    "        valid_acc_epoch.append (validation_accuracy)\n",
    "        \n",
    "        print(\"EPOCH {} ...\".format(i+1))\n",
    "        print(\"Train Loss = {:.3f}, Train Acc = {:.3f}, Validation Loss = {:.3f}, Validation Acc = {:.3f}\".format(training_loss, training_accuracy, validation_loss, validation_accuracy))\n",
    "        print()\n",
    "    Lplot = plt.subplot(2,1,1)\n",
    "    Lplot.set_title('Training and Validation Loss')\n",
    "    Lplot.plot(train_loss_epoch, 'r', label='Training Loss')\n",
    "    Lplot.plot(valid_loss_epoch, 'b', label='Validation Loss')\n",
    "    Lplot.set_xlim([0, EPOCHS])\n",
    "    Lplot.legend(loc=2)\n",
    "    Aplot = plt.subplot(2,1,2)\n",
    "    Aplot.set_title('Training and Validation Accuracy')\n",
    "    Aplot.plot(train_acc_epoch,'r', label='Training Accuracy')\n",
    "    Aplot.plot(valid_acc_epoch, 'b', label='Validation Accuracy')\n",
    "    Aplot.set_ylim([0, 1.0])\n",
    "    Aplot.set_xlim([0, EPOCHS])\n",
    "    Aplot.legend(loc=2)\n",
    "    plt.tight_layout()\n",
    "    plt.show()\n",
    "        \n",
    "    saver.save(sess, './lenet')\n",
    "    print(\"Model saved\")"
   ]
  },
  {
   "cell_type": "code",
   "execution_count": 17,
   "metadata": {
    "collapsed": false,
    "deletable": true,
    "editable": true
   },
   "outputs": [
    {
     "name": "stdout",
     "output_type": "stream",
     "text": [
      "Test Loss = 0.338, Test Accuracy = 0.925\n"
     ]
    }
   ],
   "source": [
    "# Evaluate the model\n",
    "with tf.Session() as sess:\n",
    "    saver.restore(sess, tf.train.latest_checkpoint('.'))\n",
    "\n",
    "    test_loss, test_accuracy = evaluate(X_test, y_test)\n",
    "    print(\"Test Loss = {:.3f}, Test Accuracy = {:.3f}\".format(test_loss, test_accuracy))"
   ]
  },
  {
   "cell_type": "markdown",
   "metadata": {
    "deletable": true,
    "editable": true
   },
   "source": [
    "---\n",
    "\n",
    "## Step 3: Test a Model on New Images\n",
    "\n",
    "To give yourself more insight into how your model is working, download at least five pictures of German traffic signs from the web and use your model to predict the traffic sign type.\n",
    "\n",
    "You may find `signnames.csv` useful as it contains mappings from the class id (integer) to the actual sign name."
   ]
  },
  {
   "cell_type": "markdown",
   "metadata": {
    "deletable": true,
    "editable": true
   },
   "source": [
    "### Load and Output the Images"
   ]
  },
  {
   "cell_type": "code",
   "execution_count": 18,
   "metadata": {
    "collapsed": false,
    "deletable": true,
    "editable": true
   },
   "outputs": [
    {
     "data": {
      "image/png": "[encoded data removed]",
      "text/plain": [
       "<matplotlib.figure.Figure at 0x7f2920e1c5f8>"
      ]
     },
     "metadata": {},
     "output_type": "display_data"
    },
    {
     "data": {
      "image/png": "[encoded data removed]",
      "text/plain": [
       "<matplotlib.figure.Figure at 0x7f28d0455588>"
      ]
     },
     "metadata": {},
     "output_type": "display_data"
    },
    {
     "data": {
      "image/png": "[encoded data removed]",
      "text/plain": [
       "<matplotlib.figure.Figure at 0x7f28e2a89940>"
      ]
     },
     "metadata": {},
     "output_type": "display_data"
    },
    {
     "data": {
      "image/png": "[encoded data removed]",
      "text/plain": [
       "<matplotlib.figure.Figure at 0x7f28d0408400>"
      ]
     },
     "metadata": {},
     "output_type": "display_data"
    },
    {
     "data": {
      "image/png": "[encoded data removed]",
      "text/plain": [
       "<matplotlib.figure.Figure at 0x7f28e2aac8d0>"
      ]
     },
     "metadata": {},
     "output_type": "display_data"
    },
    {
     "data": {
      "image/png": "[encoded data removed]",
      "text/plain": [
       "<matplotlib.figure.Figure at 0x7f28e2f075c0>"
      ]
     },
     "metadata": {},
     "output_type": "display_data"
    },
    {
     "data": {
      "image/png": "[encoded data removed]",
      "text/plain": [
       "<matplotlib.figure.Figure at 0x7f28e29ce0f0>"
      ]
     },
     "metadata": {},
     "output_type": "display_data"
    },
    {
     "data": {
      "image/png": "[encoded data removed]",
      "text/plain": [
       "<matplotlib.figure.Figure at 0x7f28e2915470>"
      ]
     },
     "metadata": {},
     "output_type": "display_data"
    },
    {
     "data": {
      "image/png": "[encoded data removed]",
      "text/plain": [
       "<matplotlib.figure.Figure at 0x7f28e28e9588>"
      ]
     },
     "metadata": {},
     "output_type": "display_data"
    },
    {
     "data": {
      "image/png": "[encoded data removed]",
      "text/plain": [
       "<matplotlib.figure.Figure at 0x7f28e28b4240>"
      ]
     },
     "metadata": {},
     "output_type": "display_data"
    }
   ],
   "source": [
    "### Load the images and plot them here.\n",
    "### Feel free to use as many code cells as needed.\n",
    "import cv2\n",
    "import numpy as np\n",
    "from scipy import misc\n",
    "import matplotlib.pyplot as plt\n",
    "%matplotlib inline\n",
    "\n",
    "#image_files = ['bumpy', 'caution', 'children_cross', 'dangerous_left', \n",
    "#               'narrows_right', 'pedestrians', 'slippery', 'traffic_signals']\n",
    "#image_labels =[22,18,28,19, 24, 27,23,26]\n",
    "\n",
    "image_files = ['bumpy', 'dangerous_left', \n",
    "               'narrows_right', 'slippery', 'traffic_signals']\n",
    "image_labels =[22, 19, 24, 23,26]\n",
    "\n",
    "\n",
    "file_xtn = '.png'\n",
    "file_path = '../data/german_traffic/'\n",
    "\n",
    "X_d = []\n",
    "\n",
    "for i in range (0,len(image_files)):\n",
    "    img = cv2.resize (cv2.imread(file_path + image_files[i] + file_xtn), (32, 32))\n",
    "    plt.figure(figsize=(1,1))\n",
    "    plt.imshow (img)\n",
    "    X_d.append (img)\n",
    "X_s = np.stack(X_d)\n",
    "Y_s = np.stack(image_labels)\n",
    "for i in range (0,len(X_s)):\n",
    "    plt.figure(figsize=(1,1))\n",
    "    plt.imshow(X_s[i])\n",
    "\n",
    "\n"
   ]
  },
  {
   "cell_type": "code",
   "execution_count": 19,
   "metadata": {
    "collapsed": false,
    "deletable": true,
    "editable": true
   },
   "outputs": [],
   "source": [
    "X_s = normalizeImgDataSet(X_s)\n"
   ]
  },
  {
   "cell_type": "markdown",
   "metadata": {
    "deletable": true,
    "editable": true
   },
   "source": [
    "### Predict the Sign Type for Each Image"
   ]
  },
  {
   "cell_type": "code",
   "execution_count": 20,
   "metadata": {
    "collapsed": false,
    "deletable": true,
    "editable": true
   },
   "outputs": [],
   "source": [
    "### Run the predictions here and use the model to output the prediction for each image.\n",
    "### Make sure to pre-process the images with the same pre-processing pipeline used earlier.\n",
    "### Feel free to use as many code cells as needed.\n",
    "\n",
    "with tf.Session() as sess:\n",
    "    saver.restore(sess, tf.train.latest_checkpoint('.'))\n",
    "    softmax = tf.nn.softmax(logits)\n",
    "    result = sess.run(softmax, feed_dict={x: X_s, keep_prob:1.0})    \n",
    "    k_probvalues, class_indices = tf.nn.top_k(result, len(X_s))\n",
    "    topk_probs = sess.run(k_probvalues)\n",
    "    class_predictions = sess.run(class_indices)    \n",
    "    "
   ]
  },
  {
   "cell_type": "markdown",
   "metadata": {
    "deletable": true,
    "editable": true
   },
   "source": [
    "### Analyze Performance"
   ]
  },
  {
   "cell_type": "code",
   "execution_count": 21,
   "metadata": {
    "collapsed": false,
    "deletable": true,
    "editable": true
   },
   "outputs": [
    {
     "name": "stdout",
     "output_type": "stream",
     "text": [
      "Correct Image Labels = [22, 19, 24, 23, 26]\n",
      "Predicted Img Labels = [22 19 27 23 26]\n",
      "Prediction Accuracy = 0.8\n"
     ]
    }
   ],
   "source": [
    "### Calculate the accuracy for these 5 new images. \n",
    "### For example, if the model predicted 1 out of 5 signs correctly, it's 20% accurate on these new images.\n",
    "\n",
    "print (\"Correct Image Labels = {}\".format(image_labels))\n",
    "print (\"Predicted Img Labels = {}\".format(class_predictions[:,0]))\n",
    "pred_acc = np.sum((image_labels - class_predictions[:,0] == 0))/len(image_labels)\n",
    "print (\"Prediction Accuracy = {}\".format (pred_acc))"
   ]
  },
  {
   "cell_type": "markdown",
   "metadata": {
    "deletable": true,
    "editable": true
   },
   "source": [
    "### Output Top 5 Softmax Probabilities For Each Image Found on the Web"
   ]
  },
  {
   "cell_type": "markdown",
   "metadata": {
    "deletable": true,
    "editable": true
   },
   "source": [
    "For each of the new images, print out the model's softmax probabilities to show the **certainty** of the model's predictions (limit the output to the top 5 probabilities for each image). [`tf.nn.top_k`](https://www.tensorflow.org/versions/r0.12/api_docs/python/nn.html#top_k) could prove helpful here. \n",
    "\n",
    "The example below demonstrates how tf.nn.top_k can be used to find the top k predictions for each image.\n",
    "\n",
    "`tf.nn.top_k` will return the values and indices (class ids) of the top k predictions. So if k=3, for each sign, it'll return the 3 largest probabilities (out of a possible 43) and the correspoding class ids.\n",
    "\n",
    "Take this numpy array as an example. The values in the array represent predictions. The array contains softmax probabilities for five candidate images with six possible classes. `tk.nn.top_k` is used to choose the three classes with the highest probability:\n",
    "\n",
    "```\n",
    "# (5, 6) array\n",
    "a = np.array([[ 0.24879643,  0.07032244,  0.12641572,  0.34763842,  0.07893497,\n",
    "         0.12789202],\n",
    "       [ 0.28086119,  0.27569815,  0.08594638,  0.0178669 ,  0.18063401,\n",
    "         0.15899337],\n",
    "       [ 0.26076848,  0.23664738,  0.08020603,  0.07001922,  0.1134371 ,\n",
    "         0.23892179],\n",
    "       [ 0.11943333,  0.29198961,  0.02605103,  0.26234032,  0.1351348 ,\n",
    "         0.16505091],\n",
    "       [ 0.09561176,  0.34396535,  0.0643941 ,  0.16240774,  0.24206137,\n",
    "         0.09155967]])\n",
    "```\n",
    "\n",
    "Running it through `sess.run(tf.nn.top_k(tf.constant(a), k=3))` produces:\n",
    "\n",
    "```\n",
    "TopKV2(values=array([[ 0.34763842,  0.24879643,  0.12789202],\n",
    "       [ 0.28086119,  0.27569815,  0.18063401],\n",
    "       [ 0.26076848,  0.23892179,  0.23664738],\n",
    "       [ 0.29198961,  0.26234032,  0.16505091],\n",
    "       [ 0.34396535,  0.24206137,  0.16240774]]), indices=array([[3, 0, 5],\n",
    "       [0, 1, 4],\n",
    "       [0, 5, 1],\n",
    "       [1, 3, 5],\n",
    "       [1, 4, 3]], dtype=int32))\n",
    "```\n",
    "\n",
    "Looking just at the first row we get `[ 0.34763842,  0.24879643,  0.12789202]`, you can confirm these are the 3 largest probabilities in `a`. You'll also notice `[3, 0, 5]` are the corresponding indices."
   ]
  },
  {
   "cell_type": "code",
   "execution_count": 22,
   "metadata": {
    "collapsed": false,
    "deletable": true,
    "editable": true
   },
   "outputs": [
    {
     "name": "stdout",
     "output_type": "stream",
     "text": [
      "All probs = [[  9.99974847e-01   2.51656875e-05   5.02343589e-08   1.19079402e-13\n",
      "    1.78928272e-16]\n",
      " [  8.35657239e-01   1.64342403e-01   3.87548141e-07   2.71614975e-09\n",
      "    2.08691042e-09]\n",
      " [  5.27963400e-01   2.93871015e-01   7.91130215e-02   4.95926291e-02\n",
      "    3.76766622e-02]\n",
      " [  8.07768285e-01   1.91521749e-01   4.17222502e-04   1.86385005e-04\n",
      "    1.05500832e-04]\n",
      " [  6.86344624e-01   3.05126399e-01   7.74168689e-03   7.37974362e-04\n",
      "    4.56601811e-05]]\n",
      "All predictions = [[22 26 18 29 27]\n",
      " [19 23 22 21 31]\n",
      " [27 26 18 24 22]\n",
      " [23 19 21 31 22]\n",
      " [26 18 22 27 23]]\n",
      "Predicted Img Labels = [22 19 27 23 26]\n",
      "Predicted Img Probs = [ 0.99997485  0.83565724  0.5279634   0.80776829  0.68634462]\n"
     ]
    }
   ],
   "source": [
    "### Print out the top five softmax probabilities for the predictions on the German traffic sign images found on the web. \n",
    "### Feel free to use as many code cells as needed.\n",
    "print (\"All probs = {}\".format (topk_probs))\n",
    "print (\"All predictions = {}\".format (class_predictions))\n",
    "\n",
    "print (\"Predicted Img Labels = {}\".format(class_predictions[:,0]))\n",
    "print (\"Predicted Img Probs = {}\".format(topk_probs[:,0]))\n"
   ]
  },
  {
   "cell_type": "markdown",
   "metadata": {
    "deletable": true,
    "editable": true
   },
   "source": [
    "---\n",
    "\n",
    "## Step 4: Visualize the Neural Network's State with Test Images\n",
    "\n",
    " This Section is not required to complete but acts as an additional excersise for understaning the output of a neural network's weights. While neural networks can be a great learning device they are often referred to as a black box. We can understand what the weights of a neural network look like better by plotting their feature maps. After successfully training your neural network you can see what it's feature maps look like by plotting the output of the network's weight layers in response to a test stimuli image. From these plotted feature maps, it's possible to see what characteristics of an image the network finds interesting. For a sign, maybe the inner network feature maps react with high activation to the sign's boundary outline or to the contrast in the sign's painted symbol.\n",
    "\n",
    " Provided for you below is the function code that allows you to get the visualization output of any tensorflow weight layer you want. The inputs to the function should be a stimuli image, one used during training or a new one you provided, and then the tensorflow variable name that represents the layer's state during the training process, for instance if you wanted to see what the [LeNet lab's](https://classroom.udacity.com/nanodegrees/nd013/parts/fbf77062-5703-404e-b60c-95b78b2f3f9e/modules/6df7ae49-c61c-4bb2-a23e-6527e69209ec/lessons/601ae704-1035-4287-8b11-e2c2716217ad/concepts/d4aca031-508f-4e0b-b493-e7b706120f81) feature maps looked like for it's second convolutional layer you could enter conv2 as the tf_activation variable.\n",
    "\n",
    "For an example of what feature map outputs look like, check out NVIDIA's results in their paper [End-to-End Deep Learning for Self-Driving Cars](https://devblogs.nvidia.com/parallelforall/deep-learning-self-driving-cars/) in the section Visualization of internal CNN State. NVIDIA was able to show that their network's inner weights had high activations to road boundary lines by comparing feature maps from an image with a clear path to one without. Try experimenting with a similar test to show that your trained network's weights are looking for interesting features, whether it's looking at differences in feature maps from images with or without a sign, or even what feature maps look like in a trained network vs a completely untrained one on the same sign image.\n",
    "\n",
    "<figure>\n",
    " <img src=\"visualize_cnn.png\" width=\"380\" alt=\"Combined Image\" />\n",
    " <figcaption>\n",
    " <p></p> \n",
    " <p style=\"text-align: center;\"> Your output should look something like this (above)</p> \n",
    " </figcaption>\n",
    "</figure>\n",
    " <p></p> \n"
   ]
  },
  {
   "cell_type": "code",
   "execution_count": 23,
   "metadata": {
    "collapsed": true,
    "deletable": true,
    "editable": true
   },
   "outputs": [],
   "source": [
    "### Visualize your network's feature maps here.\n",
    "### Feel free to use as many code cells as needed.\n",
    "\n",
    "# image_input: the test image being fed into the network to produce the feature maps\n",
    "# tf_activation: should be a tf variable name used during your training procedure that represents the calculated state of a specific weight layer\n",
    "# activation_min/max: can be used to view the activation contrast in more detail, by default matplot sets min and max to the actual min and max values of the output\n",
    "# plt_num: used to plot out multiple different weight feature map sets on the same block, just extend the plt number for each new feature map entry\n",
    "\n",
    "def outputFeatureMap(image_input, tf_activation, activation_min=-1, activation_max=-1 ,plt_num=1):\n",
    "    # Here make sure to preprocess your image_input in a way your network expects\n",
    "    # with size, normalization, ect if needed\n",
    "    # image_input =\n",
    "    # Note: x should be the same name as your network's tensorflow data placeholder variable\n",
    "    # If you get an error tf_activation is not defined it maybe having trouble accessing the variable from inside a function\n",
    "    activation = tf_activation.eval(session=sess,feed_dict={x : image_input})\n",
    "    featuremaps = activation.shape[3]\n",
    "    plt.figure(plt_num, figsize=(15,15))\n",
    "    for featuremap in range(featuremaps):\n",
    "        plt.subplot(6,8, featuremap+1) # sets the number of feature maps to show on each row and column\n",
    "        plt.title('FeatureMap ' + str(featuremap)) # displays the feature map number\n",
    "        if activation_min != -1 & activation_max != -1:\n",
    "            plt.imshow(activation[0,:,:, featuremap], interpolation=\"nearest\", vmin =activation_min, vmax=activation_max, cmap=\"gray\")\n",
    "        elif activation_max != -1:\n",
    "            plt.imshow(activation[0,:,:, featuremap], interpolation=\"nearest\", vmax=activation_max, cmap=\"gray\")\n",
    "        elif activation_min !=-1:\n",
    "            plt.imshow(activation[0,:,:, featuremap], interpolation=\"nearest\", vmin=activation_min, cmap=\"gray\")\n",
    "        else:\n",
    "            plt.imshow(activation[0,:,:, featuremap], interpolation=\"nearest\", cmap=\"gray\")"
   ]
  },
  {
   "cell_type": "markdown",
   "metadata": {
    "deletable": true,
    "editable": true
   },
   "source": [
    "### Question 9\n",
    "\n",
    "Discuss how you used the visual output of your trained network's feature maps to show that it had learned to look for interesting characteristics in traffic sign images\n"
   ]
  },
  {
   "cell_type": "markdown",
   "metadata": {
    "deletable": true,
    "editable": true
   },
   "source": [
    "**Answer:**"
   ]
  },
  {
   "cell_type": "markdown",
   "metadata": {
    "deletable": true,
    "editable": true
   },
   "source": [
    "> **Note**: Once you have completed all of the code implementations and successfully answered each question above, you may finalize your work by exporting the iPython Notebook as an HTML document. You can do this by using the menu above and navigating to  \\n\",\n",
    "    \"**File -> Download as -> HTML (.html)**. Include the finished document along with this notebook as your submission."
   ]
  },
  {
   "cell_type": "markdown",
   "metadata": {
    "deletable": true,
    "editable": true
   },
   "source": [
    "### Project Writeup\n",
    "\n",
    "Once you have completed the code implementation, document your results in a project writeup using this [template](https://github.com/udacity/CarND-Traffic-Sign-Classifier-Project/blob/master/writeup_template.md) as a guide. The writeup can be in a markdown or pdf file. "
   ]
  }
 ],
 "metadata": {
  "anaconda-cloud": {},
  "kernelspec": {
   "display_name": "Python 3",
   "language": "python",
   "name": "python3"
  },
  "language_info": {
   "codemirror_mode": {
    "name": "ipython",
    "version": 3
   },
   "file_extension": ".py",
   "mimetype": "text/x-python",
   "name": "python",
   "nbconvert_exporter": "python",
   "pygments_lexer": "ipython3",
   "version": "3.5.2"
  },
  "widgets": {
   "state": {},
   "version": "1.1.2"
  }
 },
 "nbformat": 4,
 "nbformat_minor": 1
}
